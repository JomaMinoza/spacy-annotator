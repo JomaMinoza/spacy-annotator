{
 "cells": [
  {
   "cell_type": "code",
   "execution_count": 1,
   "id": "turkish-arizona",
   "metadata": {},
   "outputs": [],
   "source": [
    "import sys\n",
    "sys.path.append(\"..\")"
   ]
  },
  {
   "cell_type": "code",
   "execution_count": 2,
   "id": "contained-bridal",
   "metadata": {},
   "outputs": [],
   "source": [
    "import pandas as pd\n",
    "import spacy_annotator as spa"
   ]
  },
  {
   "cell_type": "markdown",
   "id": "stunning-scheme",
   "metadata": {},
   "source": [
    "## Example"
   ]
  },
  {
   "cell_type": "code",
   "execution_count": 3,
   "id": "reverse-relay",
   "metadata": {},
   "outputs": [],
   "source": [
    "df = pd.DataFrame({\n",
    "    \"text\": [\n",
    "        \"New york is lovely, Milan is nice, but london is amazing!\",\n",
    "        \"Stockholm is too cold. Ingrid Bergman says so.\"\n",
    "    ]})\n",
    "df[\"index\"] = df.index"
   ]
  },
  {
   "cell_type": "code",
   "execution_count": 4,
   "id": "raised-monkey",
   "metadata": {},
   "outputs": [
    {
     "data": {
      "text/html": [
       "<div>\n",
       "<style scoped>\n",
       "    .dataframe tbody tr th:only-of-type {\n",
       "        vertical-align: middle;\n",
       "    }\n",
       "\n",
       "    .dataframe tbody tr th {\n",
       "        vertical-align: top;\n",
       "    }\n",
       "\n",
       "    .dataframe thead th {\n",
       "        text-align: right;\n",
       "    }\n",
       "</style>\n",
       "<table border=\"1\" class=\"dataframe\">\n",
       "  <thead>\n",
       "    <tr style=\"text-align: right;\">\n",
       "      <th></th>\n",
       "      <th>text</th>\n",
       "      <th>index</th>\n",
       "    </tr>\n",
       "  </thead>\n",
       "  <tbody>\n",
       "    <tr>\n",
       "      <th>0</th>\n",
       "      <td>New york is lovely, Milan is nice, but london ...</td>\n",
       "      <td>0</td>\n",
       "    </tr>\n",
       "    <tr>\n",
       "      <th>1</th>\n",
       "      <td>Stockholm is too cold. Ingrid Bergman says so.</td>\n",
       "      <td>1</td>\n",
       "    </tr>\n",
       "  </tbody>\n",
       "</table>\n",
       "</div>"
      ],
      "text/plain": [
       "                                                text  index\n",
       "0  New york is lovely, Milan is nice, but london ...      0\n",
       "1     Stockholm is too cold. Ingrid Bergman says so.      1"
      ]
     },
     "execution_count": 4,
     "metadata": {},
     "output_type": "execute_result"
    }
   ],
   "source": [
    "df"
   ]
  },
  {
   "cell_type": "markdown",
   "id": "medieval-elevation",
   "metadata": {},
   "source": [
    "### Annotation without model"
   ]
  },
  {
   "cell_type": "code",
   "execution_count": 5,
   "id": "hawaiian-australian",
   "metadata": {},
   "outputs": [],
   "source": [
    "annotator = spa.Annotator(labels=[\"GPE\", \"PERSON\"])"
   ]
  },
  {
   "cell_type": "code",
   "execution_count": 6,
   "id": "surface-trash",
   "metadata": {},
   "outputs": [
    {
     "name": "stdout",
     "output_type": "stream",
     "text": [
      "\n",
      "            \u001b[1mInstructions\u001b[0m \n",
      "\n",
      "            For each entity type, input must be a DELIMITER separated string. \n",
      "\n",
      "            If no entities in text, leave as is and press submit.\n",
      "            Similarly, if no entities for a particular label, leave as is. \n",
      "\n",
      "            Buttons: \n",
      "\n",
      "            \t * submit inserts new annotation (or overwrites existing one if one is present). \n",
      "\n",
      "            \t * skip moves forward and leaves empty string (or existing annotation if one is present). \n",
      "\n",
      "            \t * finish terminates the annotation session.\n",
      "            \n"
     ]
    }
   ],
   "source": [
    "annotator.instructions"
   ]
  },
  {
   "cell_type": "code",
   "execution_count": 7,
   "id": "successful-circus",
   "metadata": {},
   "outputs": [
    {
     "data": {
      "application/vnd.jupyter.widget-view+json": {
       "model_id": "a0934bd652ed48ca88aebaa69768501a",
       "version_major": 2,
       "version_minor": 0
      },
      "text/plain": [
       "HTML(value='-1 examples annotated, 3 examples left')"
      ]
     },
     "metadata": {},
     "output_type": "display_data"
    },
    {
     "data": {
      "application/vnd.jupyter.widget-view+json": {
       "model_id": "74bbe46809bc49ca9155353566e76a8d",
       "version_major": 2,
       "version_minor": 0
      },
      "text/plain": [
       "Text(value='', description='GPE', layout=Layout(width='auto'), placeholder='ent one, ent two, ent three')"
      ]
     },
     "metadata": {},
     "output_type": "display_data"
    },
    {
     "data": {
      "application/vnd.jupyter.widget-view+json": {
       "model_id": "7dae594500144ae796cf833cd42439f5",
       "version_major": 2,
       "version_minor": 0
      },
      "text/plain": [
       "Text(value='', description='PERSON', layout=Layout(width='auto'), placeholder='ent one, ent two, ent three')"
      ]
     },
     "metadata": {},
     "output_type": "display_data"
    },
    {
     "data": {
      "application/vnd.jupyter.widget-view+json": {
       "model_id": "e154d5fdb9ce4100b166795027dac871",
       "version_major": 2,
       "version_minor": 0
      },
      "text/plain": [
       "HBox(children=(Button(button_style='success', description='submit', style=ButtonStyle()), Button(button_style=…"
      ]
     },
     "metadata": {},
     "output_type": "display_data"
    },
    {
     "data": {
      "application/vnd.jupyter.widget-view+json": {
       "model_id": "5b59837cbc0140d48fa2b0d5b48d7911",
       "version_major": 2,
       "version_minor": 0
      },
      "text/plain": [
       "Output()"
      ]
     },
     "metadata": {},
     "output_type": "display_data"
    }
   ],
   "source": [
    "df_labels = annotator.annotate(df=df, col_text=\"text\")"
   ]
  },
  {
   "cell_type": "code",
   "execution_count": 8,
   "id": "still-louisville",
   "metadata": {},
   "outputs": [
    {
     "data": {
      "text/html": [
       "<div>\n",
       "<style scoped>\n",
       "    .dataframe tbody tr th:only-of-type {\n",
       "        vertical-align: middle;\n",
       "    }\n",
       "\n",
       "    .dataframe tbody tr th {\n",
       "        vertical-align: top;\n",
       "    }\n",
       "\n",
       "    .dataframe thead th {\n",
       "        text-align: right;\n",
       "    }\n",
       "</style>\n",
       "<table border=\"1\" class=\"dataframe\">\n",
       "  <thead>\n",
       "    <tr style=\"text-align: right;\">\n",
       "      <th></th>\n",
       "      <th>text</th>\n",
       "      <th>index</th>\n",
       "      <th>annotations</th>\n",
       "    </tr>\n",
       "  </thead>\n",
       "  <tbody>\n",
       "    <tr>\n",
       "      <th>0</th>\n",
       "      <td>New york is lovely, Milan is nice, but london ...</td>\n",
       "      <td>0</td>\n",
       "      <td></td>\n",
       "    </tr>\n",
       "    <tr>\n",
       "      <th>1</th>\n",
       "      <td>Stockholm is too cold. Ingrid Bergman says so.</td>\n",
       "      <td>1</td>\n",
       "      <td></td>\n",
       "    </tr>\n",
       "  </tbody>\n",
       "</table>\n",
       "</div>"
      ],
      "text/plain": [
       "                                                text  index annotations\n",
       "0  New york is lovely, Milan is nice, but london ...      0            \n",
       "1     Stockholm is too cold. Ingrid Bergman says so.      1            "
      ]
     },
     "execution_count": 8,
     "metadata": {},
     "output_type": "execute_result"
    }
   ],
   "source": [
    "df_labels"
   ]
  },
  {
   "cell_type": "code",
   "execution_count": 9,
   "id": "numerous-anniversary",
   "metadata": {},
   "outputs": [
    {
     "data": {
      "text/plain": [
       "''"
      ]
     },
     "execution_count": 9,
     "metadata": {},
     "output_type": "execute_result"
    }
   ],
   "source": [
    "df_labels.annotations[1]"
   ]
  },
  {
   "cell_type": "markdown",
   "id": "operational-vaccine",
   "metadata": {},
   "source": [
    "### Annotation with model"
   ]
  },
  {
   "cell_type": "code",
   "execution_count": 10,
   "id": "fluid-store",
   "metadata": {},
   "outputs": [],
   "source": [
    "import spacy"
   ]
  },
  {
   "cell_type": "code",
   "execution_count": 11,
   "id": "liable-record",
   "metadata": {},
   "outputs": [],
   "source": [
    "nlp = spacy.load(\"en_core_web_sm\")"
   ]
  },
  {
   "cell_type": "code",
   "execution_count": 12,
   "id": "generic-joint",
   "metadata": {},
   "outputs": [],
   "source": [
    "annotator = spa.Annotator(labels=[\"GPE\", \"PERSON\"], model=nlp)"
   ]
  },
  {
   "cell_type": "code",
   "execution_count": 13,
   "id": "special-williams",
   "metadata": {},
   "outputs": [
    {
     "data": {
      "application/vnd.jupyter.widget-view+json": {
       "model_id": "f29903e84687432aa8892d213eab76b2",
       "version_major": 2,
       "version_minor": 0
      },
      "text/plain": [
       "HTML(value='-1 examples annotated, 3 examples left')"
      ]
     },
     "metadata": {},
     "output_type": "display_data"
    },
    {
     "data": {
      "application/vnd.jupyter.widget-view+json": {
       "model_id": "cd349854774d4aa195e7111f3b72bd73",
       "version_major": 2,
       "version_minor": 0
      },
      "text/plain": [
       "Text(value='', description='GPE', layout=Layout(width='auto'), placeholder='ent one, ent two, ent three')"
      ]
     },
     "metadata": {},
     "output_type": "display_data"
    },
    {
     "data": {
      "application/vnd.jupyter.widget-view+json": {
       "model_id": "27f4fa5c00024eac932660ec0efd0b5c",
       "version_major": 2,
       "version_minor": 0
      },
      "text/plain": [
       "Text(value='', description='PERSON', layout=Layout(width='auto'), placeholder='ent one, ent two, ent three')"
      ]
     },
     "metadata": {},
     "output_type": "display_data"
    },
    {
     "data": {
      "application/vnd.jupyter.widget-view+json": {
       "model_id": "296a36a8894249a5ac796ab80dfb119e",
       "version_major": 2,
       "version_minor": 0
      },
      "text/plain": [
       "HBox(children=(Button(button_style='success', description='submit', style=ButtonStyle()), Button(button_style=…"
      ]
     },
     "metadata": {},
     "output_type": "display_data"
    },
    {
     "data": {
      "application/vnd.jupyter.widget-view+json": {
       "model_id": "628dd9f788a7452481cd5c268076d7d1",
       "version_major": 2,
       "version_minor": 0
      },
      "text/plain": [
       "Output()"
      ]
     },
     "metadata": {},
     "output_type": "display_data"
    }
   ],
   "source": [
    "df_labels = annotator.annotate(df=df, col_text=\"text\", shuffle=True)"
   ]
  },
  {
   "cell_type": "code",
   "execution_count": 14,
   "id": "advance-senior",
   "metadata": {},
   "outputs": [
    {
     "data": {
      "text/html": [
       "<div>\n",
       "<style scoped>\n",
       "    .dataframe tbody tr th:only-of-type {\n",
       "        vertical-align: middle;\n",
       "    }\n",
       "\n",
       "    .dataframe tbody tr th {\n",
       "        vertical-align: top;\n",
       "    }\n",
       "\n",
       "    .dataframe thead th {\n",
       "        text-align: right;\n",
       "    }\n",
       "</style>\n",
       "<table border=\"1\" class=\"dataframe\">\n",
       "  <thead>\n",
       "    <tr style=\"text-align: right;\">\n",
       "      <th></th>\n",
       "      <th>text</th>\n",
       "      <th>index</th>\n",
       "      <th>annotations</th>\n",
       "    </tr>\n",
       "  </thead>\n",
       "  <tbody>\n",
       "    <tr>\n",
       "      <th>0</th>\n",
       "      <td>Stockholm is too cold. Ingrid Bergman says so.</td>\n",
       "      <td>1</td>\n",
       "      <td></td>\n",
       "    </tr>\n",
       "    <tr>\n",
       "      <th>1</th>\n",
       "      <td>New york is lovely, Milan is nice, but london ...</td>\n",
       "      <td>0</td>\n",
       "      <td></td>\n",
       "    </tr>\n",
       "  </tbody>\n",
       "</table>\n",
       "</div>"
      ],
      "text/plain": [
       "                                                text  index annotations\n",
       "0     Stockholm is too cold. Ingrid Bergman says so.      1            \n",
       "1  New york is lovely, Milan is nice, but london ...      0            "
      ]
     },
     "execution_count": 14,
     "metadata": {},
     "output_type": "execute_result"
    }
   ],
   "source": [
    "df_labels"
   ]
  },
  {
   "cell_type": "code",
   "execution_count": 15,
   "id": "constitutional-college",
   "metadata": {},
   "outputs": [
    {
     "data": {
      "text/plain": [
       "''"
      ]
     },
     "execution_count": 15,
     "metadata": {},
     "output_type": "execute_result"
    }
   ],
   "source": [
    "df_labels[\"annotations\"][1]"
   ]
  },
  {
   "cell_type": "code",
   "execution_count": null,
   "id": "manufactured-damage",
   "metadata": {},
   "outputs": [],
   "source": []
  }
 ],
 "metadata": {
  "kernelspec": {
   "display_name": "Python SP",
   "language": "python",
   "name": "py-signal"
  },
  "language_info": {
   "codemirror_mode": {
    "name": "ipython",
    "version": 3
   },
   "file_extension": ".py",
   "mimetype": "text/x-python",
   "name": "python",
   "nbconvert_exporter": "python",
   "pygments_lexer": "ipython3",
   "version": "3.7.9"
  }
 },
 "nbformat": 4,
 "nbformat_minor": 5
}
