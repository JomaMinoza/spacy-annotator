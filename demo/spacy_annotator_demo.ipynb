{
 "cells": [
  {
   "cell_type": "code",
   "execution_count": 1,
   "id": "local-heather",
   "metadata": {},
   "outputs": [],
   "source": [
    "import sys\n",
    "sys.path.append(\"..\")"
   ]
  },
  {
   "cell_type": "code",
   "execution_count": 2,
   "id": "small-stadium",
   "metadata": {},
   "outputs": [],
   "source": [
    "import pandas as pd\n",
    "import re\n",
    "from spacy_annotator.pandas_annotations import annotate as pd_annotate"
   ]
  },
  {
   "cell_type": "markdown",
   "id": "governing-skill",
   "metadata": {},
   "source": [
    "## Example"
   ]
  },
  {
   "cell_type": "code",
   "execution_count": 3,
   "id": "norman-assembly",
   "metadata": {},
   "outputs": [],
   "source": [
    "df = pd.DataFrame({\n",
    "    \"text\": [\n",
    "        \"New York is lovely, Milan is nice, but London is amazing!\",\n",
    "        \"Stockholm is too cold.\"\n",
    "    ]})"
   ]
  },
  {
   "cell_type": "code",
   "execution_count": 4,
   "id": "driving-landing",
   "metadata": {},
   "outputs": [
    {
     "data": {
      "text/html": [
       "<div>\n",
       "<style scoped>\n",
       "    .dataframe tbody tr th:only-of-type {\n",
       "        vertical-align: middle;\n",
       "    }\n",
       "\n",
       "    .dataframe tbody tr th {\n",
       "        vertical-align: top;\n",
       "    }\n",
       "\n",
       "    .dataframe thead th {\n",
       "        text-align: right;\n",
       "    }\n",
       "</style>\n",
       "<table border=\"1\" class=\"dataframe\">\n",
       "  <thead>\n",
       "    <tr style=\"text-align: right;\">\n",
       "      <th></th>\n",
       "      <th>text</th>\n",
       "    </tr>\n",
       "  </thead>\n",
       "  <tbody>\n",
       "    <tr>\n",
       "      <th>0</th>\n",
       "      <td>New York is lovely, Milan is nice, but London ...</td>\n",
       "    </tr>\n",
       "    <tr>\n",
       "      <th>1</th>\n",
       "      <td>Stockholm is too cold.</td>\n",
       "    </tr>\n",
       "  </tbody>\n",
       "</table>\n",
       "</div>"
      ],
      "text/plain": [
       "                                                text\n",
       "0  New York is lovely, Milan is nice, but London ...\n",
       "1                             Stockholm is too cold."
      ]
     },
     "execution_count": 4,
     "metadata": {},
     "output_type": "execute_result"
    }
   ],
   "source": [
    "df"
   ]
  },
  {
   "cell_type": "markdown",
   "id": "catholic-stock",
   "metadata": {},
   "source": [
    "### Annotating without model"
   ]
  },
  {
   "cell_type": "code",
   "execution_count": 5,
   "id": "pharmaceutical-devil",
   "metadata": {},
   "outputs": [
    {
     "name": "stdout",
     "output_type": "stream",
     "text": [
      "\u001b[1mInstructions\u001b[0m \n",
      "Input must be in the following format: \n",
      "labelA: item1, item2; \n",
      "labelB: itemX, itemZ; \n",
      "\n",
      "If no entities in text, leave as is and press submit. \n",
      "Similarly, if no entities for a particular label, leave as is (or delete the line for that label). \n",
      "\n",
      "Buttons: \n",
      "*submit inserts new annotation (or overwrites existing one if one is present). \n",
      "*skip moves forward and leaves empty string (or existing annotation if one is present). \n",
      "*finish terminates the annotation session.\n"
     ]
    },
    {
     "data": {
      "application/vnd.jupyter.widget-view+json": {
       "model_id": "513b2d55dc7b4a1ea66d76693a1c92ca",
       "version_major": 2,
       "version_minor": 0
      },
      "text/plain": [
       "HTML(value='-1 examples annotated, 3 examples left')"
      ]
     },
     "metadata": {},
     "output_type": "display_data"
    },
    {
     "data": {
      "application/vnd.jupyter.widget-view+json": {
       "model_id": "28549c92dc534778b2e0fdd7c1011a04",
       "version_major": 2,
       "version_minor": 0
      },
      "text/plain": [
       "Textarea(value='GPE: insert;\\nPERSON: insert;', layout=Layout(width='auto'), rows=2)"
      ]
     },
     "metadata": {},
     "output_type": "display_data"
    },
    {
     "data": {
      "application/vnd.jupyter.widget-view+json": {
       "model_id": "7448b80186bc44c5bd37c49523f06d1c",
       "version_major": 2,
       "version_minor": 0
      },
      "text/plain": [
       "HBox(children=(Button(description='submit', style=ButtonStyle()), Button(description='skip', style=ButtonStyle…"
      ]
     },
     "metadata": {},
     "output_type": "display_data"
    },
    {
     "data": {
      "application/vnd.jupyter.widget-view+json": {
       "model_id": "d9de35ec8a0e432cb8eef6dbca8ddb32",
       "version_major": 2,
       "version_minor": 0
      },
      "text/plain": [
       "Output()"
      ]
     },
     "metadata": {},
     "output_type": "display_data"
    }
   ],
   "source": [
    "df_labels = pd_annotate(\n",
    "    df,\n",
    "    col_text=\"text\",\n",
    "    labels=[\"GPE\", \"PERSON\"],\n",
    "    sample_size=1,\n",
    ")"
   ]
  },
  {
   "cell_type": "code",
   "execution_count": 6,
   "id": "quick-gnome",
   "metadata": {},
   "outputs": [
    {
     "data": {
      "text/html": [
       "<div>\n",
       "<style scoped>\n",
       "    .dataframe tbody tr th:only-of-type {\n",
       "        vertical-align: middle;\n",
       "    }\n",
       "\n",
       "    .dataframe tbody tr th {\n",
       "        vertical-align: top;\n",
       "    }\n",
       "\n",
       "    .dataframe thead th {\n",
       "        text-align: right;\n",
       "    }\n",
       "</style>\n",
       "<table border=\"1\" class=\"dataframe\">\n",
       "  <thead>\n",
       "    <tr style=\"text-align: right;\">\n",
       "      <th></th>\n",
       "      <th>text</th>\n",
       "      <th>annotations</th>\n",
       "    </tr>\n",
       "  </thead>\n",
       "  <tbody>\n",
       "    <tr>\n",
       "      <th>0</th>\n",
       "      <td>Stockholm is too cold.</td>\n",
       "      <td></td>\n",
       "    </tr>\n",
       "    <tr>\n",
       "      <th>1</th>\n",
       "      <td>New York is lovely, Milan is nice, but London ...</td>\n",
       "      <td></td>\n",
       "    </tr>\n",
       "  </tbody>\n",
       "</table>\n",
       "</div>"
      ],
      "text/plain": [
       "                                                text annotations\n",
       "0                             Stockholm is too cold.            \n",
       "1  New York is lovely, Milan is nice, but London ...            "
      ]
     },
     "execution_count": 6,
     "metadata": {},
     "output_type": "execute_result"
    }
   ],
   "source": [
    "df_labels"
   ]
  },
  {
   "cell_type": "code",
   "execution_count": 7,
   "id": "productive-value",
   "metadata": {},
   "outputs": [
    {
     "data": {
      "text/plain": [
       "''"
      ]
     },
     "execution_count": 7,
     "metadata": {},
     "output_type": "execute_result"
    }
   ],
   "source": [
    "df_labels.loc[0, \"annotations\"]"
   ]
  },
  {
   "cell_type": "markdown",
   "id": "dietary-hindu",
   "metadata": {},
   "source": [
    "### Annotating with model"
   ]
  },
  {
   "cell_type": "code",
   "execution_count": 8,
   "id": "mineral-canvas",
   "metadata": {},
   "outputs": [
    {
     "name": "stdout",
     "output_type": "stream",
     "text": [
      "\u001b[1mInstructions\u001b[0m \n",
      "Input must be in the following format: \n",
      "labelA: item1, item2; \n",
      "labelB: itemX, itemZ; \n",
      "\n",
      "If no entities in text, leave as is and press submit. \n",
      "Similarly, if no entities for a particular label, leave as is (or delete the line for that label). \n",
      "\n",
      "Buttons: \n",
      "*submit inserts new annotation (or overwrites existing one if one is present). \n",
      "*skip moves forward and leaves empty string (or existing annotation if one is present). \n",
      "*finish terminates the annotation session.\n"
     ]
    },
    {
     "data": {
      "application/vnd.jupyter.widget-view+json": {
       "model_id": "e15e335200a541a2a7e487e6bbc56e06",
       "version_major": 2,
       "version_minor": 0
      },
      "text/plain": [
       "HTML(value='-1 examples annotated, 3 examples left')"
      ]
     },
     "metadata": {},
     "output_type": "display_data"
    },
    {
     "data": {
      "application/vnd.jupyter.widget-view+json": {
       "model_id": "abea25f93ce647e7bf1e16c51756498c",
       "version_major": 2,
       "version_minor": 0
      },
      "text/plain": [
       "Textarea(value='GPE: insert;\\nPERSON: insert;', layout=Layout(width='auto'), rows=2)"
      ]
     },
     "metadata": {},
     "output_type": "display_data"
    },
    {
     "data": {
      "application/vnd.jupyter.widget-view+json": {
       "model_id": "621b4645e9df4ca78bcee828aa6e9370",
       "version_major": 2,
       "version_minor": 0
      },
      "text/plain": [
       "HBox(children=(Button(description='submit', style=ButtonStyle()), Button(description='skip', style=ButtonStyle…"
      ]
     },
     "metadata": {},
     "output_type": "display_data"
    },
    {
     "data": {
      "application/vnd.jupyter.widget-view+json": {
       "model_id": "a71ce31f94f34292b86f27ec47db0f77",
       "version_major": 2,
       "version_minor": 0
      },
      "text/plain": [
       "Output()"
      ]
     },
     "metadata": {},
     "output_type": "display_data"
    }
   ],
   "source": [
    "df_labels_2 = pd_annotate(\n",
    "    df,\n",
    "    col_text=\"text\",\n",
    "    labels=[\"GPE\", \"PERSON\"],\n",
    "    sample_size=1,\n",
    "    model=\"en_core_web_sm\"\n",
    ")"
   ]
  },
  {
   "cell_type": "code",
   "execution_count": null,
   "id": "negative-condition",
   "metadata": {},
   "outputs": [],
   "source": []
  }
 ],
 "metadata": {
  "kernelspec": {
   "display_name": "Python 3.7",
   "language": "python",
   "name": "py37"
  },
  "language_info": {
   "codemirror_mode": {
    "name": "ipython",
    "version": 3
   },
   "file_extension": ".py",
   "mimetype": "text/x-python",
   "name": "python",
   "nbconvert_exporter": "python",
   "pygments_lexer": "ipython3",
   "version": "3.7.9"
  }
 },
 "nbformat": 4,
 "nbformat_minor": 5
}
