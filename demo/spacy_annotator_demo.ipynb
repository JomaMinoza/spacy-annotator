{
 "cells": [
  {
   "cell_type": "code",
   "execution_count": 1,
   "id": "proved-friday",
   "metadata": {},
   "outputs": [],
   "source": [
    "# python -m pip install -e ."
   ]
  },
  {
   "cell_type": "code",
   "execution_count": 2,
   "id": "prepared-politics",
   "metadata": {},
   "outputs": [],
   "source": [
    "import pandas as pd\n",
    "import spacy_annotator as spa"
   ]
  },
  {
   "cell_type": "markdown",
   "id": "daily-prerequisite",
   "metadata": {},
   "source": [
    "## Example"
   ]
  },
  {
   "cell_type": "code",
   "execution_count": 3,
   "id": "instructional-assault",
   "metadata": {},
   "outputs": [],
   "source": [
    "df = pd.DataFrame({\n",
    "    \"text\": [\n",
    "        \"New york is lovely, Milan is nice, but london is amazing!\",\n",
    "        \"Stockholm is too cold. Ingrid Bergman says so.\"\n",
    "    ]})\n",
    "df[\"index\"] = df.index"
   ]
  },
  {
   "cell_type": "code",
   "execution_count": 4,
   "id": "violent-ghost",
   "metadata": {},
   "outputs": [
    {
     "data": {
      "text/html": [
       "<div>\n",
       "<style scoped>\n",
       "    .dataframe tbody tr th:only-of-type {\n",
       "        vertical-align: middle;\n",
       "    }\n",
       "\n",
       "    .dataframe tbody tr th {\n",
       "        vertical-align: top;\n",
       "    }\n",
       "\n",
       "    .dataframe thead th {\n",
       "        text-align: right;\n",
       "    }\n",
       "</style>\n",
       "<table border=\"1\" class=\"dataframe\">\n",
       "  <thead>\n",
       "    <tr style=\"text-align: right;\">\n",
       "      <th></th>\n",
       "      <th>text</th>\n",
       "      <th>index</th>\n",
       "    </tr>\n",
       "  </thead>\n",
       "  <tbody>\n",
       "    <tr>\n",
       "      <th>0</th>\n",
       "      <td>New york is lovely, Milan is nice, but london ...</td>\n",
       "      <td>0</td>\n",
       "    </tr>\n",
       "    <tr>\n",
       "      <th>1</th>\n",
       "      <td>Stockholm is too cold. Ingrid Bergman says so.</td>\n",
       "      <td>1</td>\n",
       "    </tr>\n",
       "  </tbody>\n",
       "</table>\n",
       "</div>"
      ],
      "text/plain": [
       "                                                text  index\n",
       "0  New york is lovely, Milan is nice, but london ...      0\n",
       "1     Stockholm is too cold. Ingrid Bergman says so.      1"
      ]
     },
     "execution_count": 4,
     "metadata": {},
     "output_type": "execute_result"
    }
   ],
   "source": [
    "df"
   ]
  },
  {
   "cell_type": "markdown",
   "id": "modular-telling",
   "metadata": {},
   "source": [
    "### Annotation without model"
   ]
  },
  {
   "cell_type": "code",
   "execution_count": 5,
   "id": "serial-gender",
   "metadata": {},
   "outputs": [],
   "source": [
    "annotator = spa.Annotator(labels=[\"GPE\", \"PERSON\"])"
   ]
  },
  {
   "cell_type": "code",
   "execution_count": 6,
   "id": "korean-saturday",
   "metadata": {},
   "outputs": [
    {
     "name": "stdout",
     "output_type": "stream",
     "text": [
      "\n",
      "            \u001b[1mInstructions\u001b[0m \n",
      "\n",
      "            For each entity type, input must be a DELIMITER separated string. \n",
      "\n",
      "            If no entities in text, leave as is and press submit.\n",
      "            Similarly, if no entities for a particular label, leave as is. \n",
      "\n",
      "            Buttons: \n",
      "\n",
      "            \t * submit inserts new annotation (or overwrites existing one if one is present). \n",
      "\n",
      "            \t * skip moves forward and leaves empty string (or existing annotation if one is present). \n",
      "\n",
      "            \t * finish terminates the annotation session.\n",
      "            \n"
     ]
    }
   ],
   "source": [
    "annotator.instructions"
   ]
  },
  {
   "cell_type": "code",
   "execution_count": 7,
   "id": "musical-verse",
   "metadata": {},
   "outputs": [
    {
     "data": {
      "application/vnd.jupyter.widget-view+json": {
       "model_id": "068686de27dd42af9069111ea08f7ae2",
       "version_major": 2,
       "version_minor": 0
      },
      "text/plain": [
       "HTML(value='-1 examples annotated, 3 examples left')"
      ]
     },
     "metadata": {},
     "output_type": "display_data"
    },
    {
     "data": {
      "application/vnd.jupyter.widget-view+json": {
       "model_id": "8c004858274c46569b4a3cb6ec515ec7",
       "version_major": 2,
       "version_minor": 0
      },
      "text/plain": [
       "Text(value='', description='GPE', layout=Layout(width='auto'), placeholder='ent one, ent two, ent three')"
      ]
     },
     "metadata": {},
     "output_type": "display_data"
    },
    {
     "data": {
      "application/vnd.jupyter.widget-view+json": {
       "model_id": "07dd6c15f3fb4440a3dd61206c817bed",
       "version_major": 2,
       "version_minor": 0
      },
      "text/plain": [
       "Text(value='', description='PERSON', layout=Layout(width='auto'), placeholder='ent one, ent two, ent three')"
      ]
     },
     "metadata": {},
     "output_type": "display_data"
    },
    {
     "data": {
      "application/vnd.jupyter.widget-view+json": {
       "model_id": "89d36971f8b24ef0b92849d58e9f05df",
       "version_major": 2,
       "version_minor": 0
      },
      "text/plain": [
       "HBox(children=(Button(button_style='success', description='submit', style=ButtonStyle()), Button(button_style=…"
      ]
     },
     "metadata": {},
     "output_type": "display_data"
    },
    {
     "data": {
      "application/vnd.jupyter.widget-view+json": {
       "model_id": "e709028d649841ba92bb8565e64d4cba",
       "version_major": 2,
       "version_minor": 0
      },
      "text/plain": [
       "Output()"
      ]
     },
     "metadata": {},
     "output_type": "display_data"
    }
   ],
   "source": [
    "df_labels = annotator.annotate(df=df, col_text=\"text\")"
   ]
  },
  {
   "cell_type": "code",
   "execution_count": 8,
   "id": "needed-error",
   "metadata": {},
   "outputs": [
    {
     "data": {
      "text/html": [
       "<div>\n",
       "<style scoped>\n",
       "    .dataframe tbody tr th:only-of-type {\n",
       "        vertical-align: middle;\n",
       "    }\n",
       "\n",
       "    .dataframe tbody tr th {\n",
       "        vertical-align: top;\n",
       "    }\n",
       "\n",
       "    .dataframe thead th {\n",
       "        text-align: right;\n",
       "    }\n",
       "</style>\n",
       "<table border=\"1\" class=\"dataframe\">\n",
       "  <thead>\n",
       "    <tr style=\"text-align: right;\">\n",
       "      <th></th>\n",
       "      <th>text</th>\n",
       "      <th>index</th>\n",
       "      <th>annotations</th>\n",
       "    </tr>\n",
       "  </thead>\n",
       "  <tbody>\n",
       "    <tr>\n",
       "      <th>0</th>\n",
       "      <td>New york is lovely, Milan is nice, but london ...</td>\n",
       "      <td>0</td>\n",
       "      <td></td>\n",
       "    </tr>\n",
       "    <tr>\n",
       "      <th>1</th>\n",
       "      <td>Stockholm is too cold. Ingrid Bergman says so.</td>\n",
       "      <td>1</td>\n",
       "      <td></td>\n",
       "    </tr>\n",
       "  </tbody>\n",
       "</table>\n",
       "</div>"
      ],
      "text/plain": [
       "                                                text  index annotations\n",
       "0  New york is lovely, Milan is nice, but london ...      0            \n",
       "1     Stockholm is too cold. Ingrid Bergman says so.      1            "
      ]
     },
     "execution_count": 8,
     "metadata": {},
     "output_type": "execute_result"
    }
   ],
   "source": [
    "df_labels"
   ]
  },
  {
   "cell_type": "code",
   "execution_count": 9,
   "id": "copyrighted-duncan",
   "metadata": {},
   "outputs": [
    {
     "data": {
      "text/plain": [
       "''"
      ]
     },
     "execution_count": 9,
     "metadata": {},
     "output_type": "execute_result"
    }
   ],
   "source": [
    "df_labels.annotations[1]"
   ]
  },
  {
   "cell_type": "markdown",
   "id": "demographic-queue",
   "metadata": {},
   "source": [
    "### Annotation with model"
   ]
  },
  {
   "cell_type": "code",
   "execution_count": 10,
   "id": "hawaiian-eleven",
   "metadata": {},
   "outputs": [],
   "source": [
    "import spacy"
   ]
  },
  {
   "cell_type": "code",
   "execution_count": 11,
   "id": "sorted-freedom",
   "metadata": {},
   "outputs": [],
   "source": [
    "nlp = spacy.load(\"en_core_web_sm\")"
   ]
  },
  {
   "cell_type": "code",
   "execution_count": 12,
   "id": "amino-columbus",
   "metadata": {},
   "outputs": [],
   "source": [
    "annotator = spa.Annotator(labels=[\"GPE\", \"PERSON\"], model=nlp)"
   ]
  },
  {
   "cell_type": "code",
   "execution_count": 13,
   "id": "unknown-ontario",
   "metadata": {},
   "outputs": [
    {
     "data": {
      "application/vnd.jupyter.widget-view+json": {
       "model_id": "900e18299bee45c3a91a3443d0897660",
       "version_major": 2,
       "version_minor": 0
      },
      "text/plain": [
       "HTML(value='-1 examples annotated, 3 examples left')"
      ]
     },
     "metadata": {},
     "output_type": "display_data"
    },
    {
     "data": {
      "application/vnd.jupyter.widget-view+json": {
       "model_id": "dc7b17148bb542fd973a2572c8a1aa53",
       "version_major": 2,
       "version_minor": 0
      },
      "text/plain": [
       "Text(value='', description='GPE', layout=Layout(width='auto'), placeholder='ent one, ent two, ent three')"
      ]
     },
     "metadata": {},
     "output_type": "display_data"
    },
    {
     "data": {
      "application/vnd.jupyter.widget-view+json": {
       "model_id": "dfe4f432d0b8413db37ba480a6d61b81",
       "version_major": 2,
       "version_minor": 0
      },
      "text/plain": [
       "Text(value='', description='PERSON', layout=Layout(width='auto'), placeholder='ent one, ent two, ent three')"
      ]
     },
     "metadata": {},
     "output_type": "display_data"
    },
    {
     "data": {
      "application/vnd.jupyter.widget-view+json": {
       "model_id": "cc3c27b4db844851b1bd7cdd6251a5a9",
       "version_major": 2,
       "version_minor": 0
      },
      "text/plain": [
       "HBox(children=(Button(button_style='success', description='submit', style=ButtonStyle()), Button(button_style=…"
      ]
     },
     "metadata": {},
     "output_type": "display_data"
    },
    {
     "data": {
      "application/vnd.jupyter.widget-view+json": {
       "model_id": "c21be1cd2161449db00072a0dc47e7f4",
       "version_major": 2,
       "version_minor": 0
      },
      "text/plain": [
       "Output()"
      ]
     },
     "metadata": {},
     "output_type": "display_data"
    }
   ],
   "source": [
    "df_labels = annotator.annotate(df=df, col_text=\"text\", shuffle=True)"
   ]
  },
  {
   "cell_type": "code",
   "execution_count": 14,
   "id": "posted-utility",
   "metadata": {},
   "outputs": [
    {
     "data": {
      "text/html": [
       "<div>\n",
       "<style scoped>\n",
       "    .dataframe tbody tr th:only-of-type {\n",
       "        vertical-align: middle;\n",
       "    }\n",
       "\n",
       "    .dataframe tbody tr th {\n",
       "        vertical-align: top;\n",
       "    }\n",
       "\n",
       "    .dataframe thead th {\n",
       "        text-align: right;\n",
       "    }\n",
       "</style>\n",
       "<table border=\"1\" class=\"dataframe\">\n",
       "  <thead>\n",
       "    <tr style=\"text-align: right;\">\n",
       "      <th></th>\n",
       "      <th>text</th>\n",
       "      <th>index</th>\n",
       "      <th>annotations</th>\n",
       "    </tr>\n",
       "  </thead>\n",
       "  <tbody>\n",
       "    <tr>\n",
       "      <th>0</th>\n",
       "      <td>New york is lovely, Milan is nice, but london ...</td>\n",
       "      <td>0</td>\n",
       "      <td>(New york is lovely, Milan is nice, but london...</td>\n",
       "    </tr>\n",
       "    <tr>\n",
       "      <th>1</th>\n",
       "      <td>Stockholm is too cold. Ingrid Bergman says so.</td>\n",
       "      <td>1</td>\n",
       "      <td>(Stockholm is too cold. Ingrid Bergman says so...</td>\n",
       "    </tr>\n",
       "  </tbody>\n",
       "</table>\n",
       "</div>"
      ],
      "text/plain": [
       "                                                text  index  \\\n",
       "0  New york is lovely, Milan is nice, but london ...      0   \n",
       "1     Stockholm is too cold. Ingrid Bergman says so.      1   \n",
       "\n",
       "                                         annotations  \n",
       "0  (New york is lovely, Milan is nice, but london...  \n",
       "1  (Stockholm is too cold. Ingrid Bergman says so...  "
      ]
     },
     "execution_count": 14,
     "metadata": {},
     "output_type": "execute_result"
    }
   ],
   "source": [
    "df_labels"
   ]
  },
  {
   "cell_type": "code",
   "execution_count": 15,
   "id": "private-sword",
   "metadata": {},
   "outputs": [
    {
     "data": {
      "text/plain": [
       "('New york is lovely, Milan is nice, but london is amazing!',\n",
       " {'entities': [(0, 8, 'GPE'), (20, 25, 'GPE'), (39, 45, 'GPE')]})"
      ]
     },
     "execution_count": 15,
     "metadata": {},
     "output_type": "execute_result"
    }
   ],
   "source": [
    "df_labels[\"annotations\"][0]"
   ]
  },
  {
   "cell_type": "markdown",
   "id": "approximate-colon",
   "metadata": {},
   "source": [
    "### Annotation with model and EntityRuler"
   ]
  },
  {
   "cell_type": "code",
   "execution_count": 16,
   "id": "compound-lindsay",
   "metadata": {},
   "outputs": [],
   "source": [
    "patterns = [\n",
    "    {\"label\": \"GPE\", \"pattern\": \"london\"}, # this one isn't picked up by \"ner\"\n",
    "    {\"label\": \"GPE\", \"pattern\": \"Stockholm\"},\n",
    "    {\"label\": \"PERSON\", \"pattern\": \"Humphrey Bogart\"},\n",
    "]"
   ]
  },
  {
   "cell_type": "code",
   "execution_count": 17,
   "id": "baking-board",
   "metadata": {},
   "outputs": [],
   "source": [
    "ruler = nlp.add_pipe(\"entity_ruler\", config={\"phrase_matcher_attr\": \"LOWER\"}, before=\"ner\")\n",
    "ruler.add_patterns(patterns)"
   ]
  },
  {
   "cell_type": "code",
   "execution_count": 18,
   "id": "removable-license",
   "metadata": {},
   "outputs": [],
   "source": [
    "annotator = spa.Annotator(labels=[\"GPE\", \"PERSON\"], model=nlp)"
   ]
  },
  {
   "cell_type": "code",
   "execution_count": 19,
   "id": "fossil-divorce",
   "metadata": {},
   "outputs": [
    {
     "data": {
      "application/vnd.jupyter.widget-view+json": {
       "model_id": "11ae03f4136b479ab6059583a2238fb0",
       "version_major": 2,
       "version_minor": 0
      },
      "text/plain": [
       "HTML(value='-1 examples annotated, 3 examples left')"
      ]
     },
     "metadata": {},
     "output_type": "display_data"
    },
    {
     "data": {
      "application/vnd.jupyter.widget-view+json": {
       "model_id": "09b101948427406ba1ace470115f6812",
       "version_major": 2,
       "version_minor": 0
      },
      "text/plain": [
       "Text(value='', description='GPE', layout=Layout(width='auto'), placeholder='ent one, ent two, ent three')"
      ]
     },
     "metadata": {},
     "output_type": "display_data"
    },
    {
     "data": {
      "application/vnd.jupyter.widget-view+json": {
       "model_id": "01284f46d80f44079041ca3f85660a1a",
       "version_major": 2,
       "version_minor": 0
      },
      "text/plain": [
       "Text(value='', description='PERSON', layout=Layout(width='auto'), placeholder='ent one, ent two, ent three')"
      ]
     },
     "metadata": {},
     "output_type": "display_data"
    },
    {
     "data": {
      "application/vnd.jupyter.widget-view+json": {
       "model_id": "4cf722390d6845ed93ba1cf5cfa60d2e",
       "version_major": 2,
       "version_minor": 0
      },
      "text/plain": [
       "HBox(children=(Button(button_style='success', description='submit', style=ButtonStyle()), Button(button_style=…"
      ]
     },
     "metadata": {},
     "output_type": "display_data"
    },
    {
     "data": {
      "application/vnd.jupyter.widget-view+json": {
       "model_id": "2574ea29132d45d5be386660304a5cc7",
       "version_major": 2,
       "version_minor": 0
      },
      "text/plain": [
       "Output()"
      ]
     },
     "metadata": {},
     "output_type": "display_data"
    }
   ],
   "source": [
    "df_labels = annotator.annotate(df=df, col_text=\"text\", shuffle=True)"
   ]
  },
  {
   "cell_type": "code",
   "execution_count": 20,
   "id": "meaning-montreal",
   "metadata": {},
   "outputs": [
    {
     "data": {
      "text/html": [
       "<div>\n",
       "<style scoped>\n",
       "    .dataframe tbody tr th:only-of-type {\n",
       "        vertical-align: middle;\n",
       "    }\n",
       "\n",
       "    .dataframe tbody tr th {\n",
       "        vertical-align: top;\n",
       "    }\n",
       "\n",
       "    .dataframe thead th {\n",
       "        text-align: right;\n",
       "    }\n",
       "</style>\n",
       "<table border=\"1\" class=\"dataframe\">\n",
       "  <thead>\n",
       "    <tr style=\"text-align: right;\">\n",
       "      <th></th>\n",
       "      <th>text</th>\n",
       "      <th>index</th>\n",
       "      <th>annotations</th>\n",
       "    </tr>\n",
       "  </thead>\n",
       "  <tbody>\n",
       "    <tr>\n",
       "      <th>0</th>\n",
       "      <td>New york is lovely, Milan is nice, but london ...</td>\n",
       "      <td>0</td>\n",
       "      <td></td>\n",
       "    </tr>\n",
       "    <tr>\n",
       "      <th>1</th>\n",
       "      <td>Stockholm is too cold. Ingrid Bergman says so.</td>\n",
       "      <td>1</td>\n",
       "      <td></td>\n",
       "    </tr>\n",
       "  </tbody>\n",
       "</table>\n",
       "</div>"
      ],
      "text/plain": [
       "                                                text  index annotations\n",
       "0  New york is lovely, Milan is nice, but london ...      0            \n",
       "1     Stockholm is too cold. Ingrid Bergman says so.      1            "
      ]
     },
     "execution_count": 20,
     "metadata": {},
     "output_type": "execute_result"
    }
   ],
   "source": [
    "df_labels"
   ]
  },
  {
   "cell_type": "code",
   "execution_count": null,
   "id": "satisfactory-raising",
   "metadata": {},
   "outputs": [],
   "source": []
  }
 ],
 "metadata": {
  "kernelspec": {
   "display_name": "Python 3.9",
   "language": "python",
   "name": "py39"
  },
  "language_info": {
   "codemirror_mode": {
    "name": "ipython",
    "version": 3
   },
   "file_extension": ".py",
   "mimetype": "text/x-python",
   "name": "python",
   "nbconvert_exporter": "python",
   "pygments_lexer": "ipython3",
   "version": "3.9.1"
  }
 },
 "nbformat": 4,
 "nbformat_minor": 5
}
