{
 "cells": [
  {
   "cell_type": "code",
   "execution_count": 1,
   "id": "miniature-mystery",
   "metadata": {},
   "outputs": [],
   "source": [
    "import sys\n",
    "sys.path.append(\"..\")"
   ]
  },
  {
   "cell_type": "code",
   "execution_count": 2,
   "id": "japanese-specific",
   "metadata": {},
   "outputs": [],
   "source": [
    "import pandas as pd\n",
    "import re\n",
    "from spacy_annotator.pandas_annotations import annotate as pd_annotate"
   ]
  },
  {
   "cell_type": "code",
   "execution_count": 3,
   "id": "atomic-archive",
   "metadata": {},
   "outputs": [],
   "source": [
    "df = pd.DataFrame({\n",
    "    \"text\": [\n",
    "        \"New York is lovely, Milan is nice, but London is amazing!\",\n",
    "        \"Stockholm is too cold.\"\n",
    "    ]})"
   ]
  },
  {
   "cell_type": "code",
   "execution_count": 4,
   "id": "correct-cursor",
   "metadata": {},
   "outputs": [
    {
     "data": {
      "text/html": [
       "<div>\n",
       "<style scoped>\n",
       "    .dataframe tbody tr th:only-of-type {\n",
       "        vertical-align: middle;\n",
       "    }\n",
       "\n",
       "    .dataframe tbody tr th {\n",
       "        vertical-align: top;\n",
       "    }\n",
       "\n",
       "    .dataframe thead th {\n",
       "        text-align: right;\n",
       "    }\n",
       "</style>\n",
       "<table border=\"1\" class=\"dataframe\">\n",
       "  <thead>\n",
       "    <tr style=\"text-align: right;\">\n",
       "      <th></th>\n",
       "      <th>text</th>\n",
       "    </tr>\n",
       "  </thead>\n",
       "  <tbody>\n",
       "    <tr>\n",
       "      <th>0</th>\n",
       "      <td>New York is lovely, Milan is nice, but London ...</td>\n",
       "    </tr>\n",
       "    <tr>\n",
       "      <th>1</th>\n",
       "      <td>Stockholm is too cold.</td>\n",
       "    </tr>\n",
       "  </tbody>\n",
       "</table>\n",
       "</div>"
      ],
      "text/plain": [
       "                                                text\n",
       "0  New York is lovely, Milan is nice, but London ...\n",
       "1                             Stockholm is too cold."
      ]
     },
     "execution_count": 4,
     "metadata": {},
     "output_type": "execute_result"
    }
   ],
   "source": [
    "df"
   ]
  },
  {
   "cell_type": "markdown",
   "id": "proof-creation",
   "metadata": {},
   "source": [
    "## Annotating without model"
   ]
  },
  {
   "cell_type": "code",
   "execution_count": 5,
   "id": "jewish-defensive",
   "metadata": {},
   "outputs": [
    {
     "name": "stdout",
     "output_type": "stream",
     "text": [
      "\u001b[1mInstructions\u001b[0m \n",
      "Input must be in the following format: \n",
      "labelA: item1, item2; \n",
      "labelB: itemX, itemZ; \n",
      "\n",
      "If no entities in text, leave as is and press submit. \n",
      "Similarly, if no entities for a particular label, leave as is (or delete the line for that label). \n",
      "\n",
      "Buttons: \n",
      "*submit inserts new annotation (or overwrites existing one if one is present). \n",
      "*skip moves forward and leaves empty string (or existing annotation if one is present). \n",
      "*finish terminates the annotation session.\n"
     ]
    },
    {
     "data": {
      "application/vnd.jupyter.widget-view+json": {
       "model_id": "0245fd2d715b474c83b7325913e2ba00",
       "version_major": 2,
       "version_minor": 0
      },
      "text/plain": [
       "HTML(value='-1 examples annotated, 3 examples left')"
      ]
     },
     "metadata": {},
     "output_type": "display_data"
    },
    {
     "data": {
      "application/vnd.jupyter.widget-view+json": {
       "model_id": "b5fba211c6aa44668ae5cc342fff7805",
       "version_major": 2,
       "version_minor": 0
      },
      "text/plain": [
       "Textarea(value='GPE: insert;\\nPERSON: insert;', layout=Layout(width='auto'), rows=2)"
      ]
     },
     "metadata": {},
     "output_type": "display_data"
    },
    {
     "data": {
      "application/vnd.jupyter.widget-view+json": {
       "model_id": "e0249971f83c4c138cf78493e404295a",
       "version_major": 2,
       "version_minor": 0
      },
      "text/plain": [
       "HBox(children=(Button(description='submit', style=ButtonStyle()), Button(description='skip', style=ButtonStyle…"
      ]
     },
     "metadata": {},
     "output_type": "display_data"
    },
    {
     "data": {
      "application/vnd.jupyter.widget-view+json": {
       "model_id": "1b1559e11d8645268f7b7f7ae86ee5f4",
       "version_major": 2,
       "version_minor": 0
      },
      "text/plain": [
       "Output()"
      ]
     },
     "metadata": {},
     "output_type": "display_data"
    }
   ],
   "source": [
    "df_labels = pd_annotate(\n",
    "    df,\n",
    "    col_text=\"text\",\n",
    "    labels=[\"GPE\", \"PERSON\"],\n",
    "    sample_size=1,\n",
    ")"
   ]
  },
  {
   "cell_type": "code",
   "execution_count": 6,
   "id": "impressive-morrison",
   "metadata": {},
   "outputs": [
    {
     "data": {
      "text/html": [
       "<div>\n",
       "<style scoped>\n",
       "    .dataframe tbody tr th:only-of-type {\n",
       "        vertical-align: middle;\n",
       "    }\n",
       "\n",
       "    .dataframe tbody tr th {\n",
       "        vertical-align: top;\n",
       "    }\n",
       "\n",
       "    .dataframe thead th {\n",
       "        text-align: right;\n",
       "    }\n",
       "</style>\n",
       "<table border=\"1\" class=\"dataframe\">\n",
       "  <thead>\n",
       "    <tr style=\"text-align: right;\">\n",
       "      <th></th>\n",
       "      <th>text</th>\n",
       "      <th>annotations</th>\n",
       "    </tr>\n",
       "  </thead>\n",
       "  <tbody>\n",
       "    <tr>\n",
       "      <th>0</th>\n",
       "      <td>New York is lovely, Milan is nice, but London ...</td>\n",
       "      <td>(New York is lovely, Milan is nice, but London...</td>\n",
       "    </tr>\n",
       "    <tr>\n",
       "      <th>1</th>\n",
       "      <td>Stockholm is too cold.</td>\n",
       "      <td>(Stockholm is too cold., {'entities': [(0, 9, ...</td>\n",
       "    </tr>\n",
       "  </tbody>\n",
       "</table>\n",
       "</div>"
      ],
      "text/plain": [
       "                                                text  \\\n",
       "0  New York is lovely, Milan is nice, but London ...   \n",
       "1                             Stockholm is too cold.   \n",
       "\n",
       "                                         annotations  \n",
       "0  (New York is lovely, Milan is nice, but London...  \n",
       "1  (Stockholm is too cold., {'entities': [(0, 9, ...  "
      ]
     },
     "execution_count": 6,
     "metadata": {},
     "output_type": "execute_result"
    }
   ],
   "source": [
    "df_labels"
   ]
  },
  {
   "cell_type": "code",
   "execution_count": 8,
   "id": "gothic-introduction",
   "metadata": {},
   "outputs": [
    {
     "data": {
      "text/plain": [
       "('New York is lovely, Milan is nice, but London is amazing!',\n",
       " {'entities': [(0, 8, 'GPE'), (20, 25, 'GPE')]})"
      ]
     },
     "execution_count": 8,
     "metadata": {},
     "output_type": "execute_result"
    }
   ],
   "source": [
    "df_labels.loc[0, \"annotations\"]"
   ]
  },
  {
   "cell_type": "markdown",
   "id": "armed-dancing",
   "metadata": {},
   "source": [
    "## Annotating with model"
   ]
  },
  {
   "cell_type": "code",
   "execution_count": 10,
   "id": "vital-liverpool",
   "metadata": {},
   "outputs": [
    {
     "name": "stdout",
     "output_type": "stream",
     "text": [
      "\u001b[1mInstructions\u001b[0m \n",
      "Input must be in the following format: \n",
      "labelA: item1, item2; \n",
      "labelB: itemX, itemZ; \n",
      "\n",
      "If no entities in text, leave as is and press submit. \n",
      "Similarly, if no entities for a particular label, leave as is (or delete the line for that label). \n",
      "\n",
      "Buttons: \n",
      "*submit inserts new annotation (or overwrites existing one if one is present). \n",
      "*skip moves forward and leaves empty string (or existing annotation if one is present). \n",
      "*finish terminates the annotation session.\n"
     ]
    },
    {
     "data": {
      "application/vnd.jupyter.widget-view+json": {
       "model_id": "c660fc99316e4b51ac89160069d91571",
       "version_major": 2,
       "version_minor": 0
      },
      "text/plain": [
       "HTML(value='-1 examples annotated, 3 examples left')"
      ]
     },
     "metadata": {},
     "output_type": "display_data"
    },
    {
     "data": {
      "application/vnd.jupyter.widget-view+json": {
       "model_id": "56651ac373b4488e9a53a7646adefbf1",
       "version_major": 2,
       "version_minor": 0
      },
      "text/plain": [
       "Textarea(value='GPE: insert;\\nPERSON: insert;', layout=Layout(width='auto'), rows=2)"
      ]
     },
     "metadata": {},
     "output_type": "display_data"
    },
    {
     "data": {
      "application/vnd.jupyter.widget-view+json": {
       "model_id": "57765eafec7a4eaebb34c41a14824785",
       "version_major": 2,
       "version_minor": 0
      },
      "text/plain": [
       "HBox(children=(Button(description='submit', style=ButtonStyle()), Button(description='skip', style=ButtonStyle…"
      ]
     },
     "metadata": {},
     "output_type": "display_data"
    },
    {
     "data": {
      "application/vnd.jupyter.widget-view+json": {
       "model_id": "145358db6b3943b18d97f02599757b6a",
       "version_major": 2,
       "version_minor": 0
      },
      "text/plain": [
       "Output()"
      ]
     },
     "metadata": {},
     "output_type": "display_data"
    }
   ],
   "source": [
    "df_labels_2 = pd_annotate(\n",
    "    df,\n",
    "    col_text=\"text\",\n",
    "    labels=[\"GPE\", \"PERSON\"],\n",
    "    sample_size=1,\n",
    "    model=\"en_core_web_sm\"\n",
    ")"
   ]
  },
  {
   "cell_type": "code",
   "execution_count": 23,
   "id": "green-german",
   "metadata": {},
   "outputs": [],
   "source": [
    "# phrasematcher"
   ]
  },
  {
   "cell_type": "code",
   "execution_count": 24,
   "id": "incorporated-nightlife",
   "metadata": {},
   "outputs": [],
   "source": [
    "# model"
   ]
  },
  {
   "cell_type": "code",
   "execution_count": 25,
   "id": "adopted-calculator",
   "metadata": {},
   "outputs": [],
   "source": [
    "# spacy format"
   ]
  },
  {
   "cell_type": "code",
   "execution_count": 26,
   "id": "bizarre-teach",
   "metadata": {},
   "outputs": [],
   "source": [
    "# BIO format"
   ]
  },
  {
   "cell_type": "code",
   "execution_count": null,
   "id": "vanilla-warrant",
   "metadata": {},
   "outputs": [],
   "source": []
  }
 ],
 "metadata": {
  "kernelspec": {
   "display_name": "Python 3.7",
   "language": "python",
   "name": "py37"
  },
  "language_info": {
   "codemirror_mode": {
    "name": "ipython",
    "version": 3
   },
   "file_extension": ".py",
   "mimetype": "text/x-python",
   "name": "python",
   "nbconvert_exporter": "python",
   "pygments_lexer": "ipython3",
   "version": "3.7.9"
  }
 },
 "nbformat": 4,
 "nbformat_minor": 5
}
