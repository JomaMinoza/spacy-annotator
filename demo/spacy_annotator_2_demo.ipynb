{
 "cells": [
  {
   "cell_type": "code",
   "execution_count": 1,
   "id": "peaceful-nursery",
   "metadata": {},
   "outputs": [],
   "source": [
    "import sys\n",
    "sys.path.append(\"..\")"
   ]
  },
  {
   "cell_type": "code",
   "execution_count": 2,
   "id": "standard-generic",
   "metadata": {},
   "outputs": [],
   "source": [
    "import pandas as pd\n",
    "# import re\n",
    "import spacy_annotator as spa"
   ]
  },
  {
   "cell_type": "code",
   "execution_count": 3,
   "id": "cubic-financing",
   "metadata": {},
   "outputs": [],
   "source": [
    "df = pd.DataFrame({\n",
    "    \"text\": [\n",
    "        \"New York is lovely, Milan is nice, but London is amazing!\",\n",
    "        \"Stockholm is too cold.\"\n",
    "    ]})"
   ]
  },
  {
   "cell_type": "code",
   "execution_count": 4,
   "id": "painful-theta",
   "metadata": {},
   "outputs": [
    {
     "data": {
      "text/html": [
       "<div>\n",
       "<style scoped>\n",
       "    .dataframe tbody tr th:only-of-type {\n",
       "        vertical-align: middle;\n",
       "    }\n",
       "\n",
       "    .dataframe tbody tr th {\n",
       "        vertical-align: top;\n",
       "    }\n",
       "\n",
       "    .dataframe thead th {\n",
       "        text-align: right;\n",
       "    }\n",
       "</style>\n",
       "<table border=\"1\" class=\"dataframe\">\n",
       "  <thead>\n",
       "    <tr style=\"text-align: right;\">\n",
       "      <th></th>\n",
       "      <th>text</th>\n",
       "    </tr>\n",
       "  </thead>\n",
       "  <tbody>\n",
       "    <tr>\n",
       "      <th>0</th>\n",
       "      <td>New York is lovely, Milan is nice, but London ...</td>\n",
       "    </tr>\n",
       "    <tr>\n",
       "      <th>1</th>\n",
       "      <td>Stockholm is too cold.</td>\n",
       "    </tr>\n",
       "  </tbody>\n",
       "</table>\n",
       "</div>"
      ],
      "text/plain": [
       "                                                text\n",
       "0  New York is lovely, Milan is nice, but London ...\n",
       "1                             Stockholm is too cold."
      ]
     },
     "execution_count": 4,
     "metadata": {},
     "output_type": "execute_result"
    }
   ],
   "source": [
    "df"
   ]
  },
  {
   "cell_type": "code",
   "execution_count": 5,
   "id": "pressing-simpson",
   "metadata": {},
   "outputs": [],
   "source": [
    "annotator = spa.Annotator(labels=[\"GPE\", \"PERSON\"])"
   ]
  },
  {
   "cell_type": "code",
   "execution_count": 6,
   "id": "bright-morgan",
   "metadata": {},
   "outputs": [
    {
     "name": "stdout",
     "output_type": "stream",
     "text": [
      "\n",
      "            \u001b[1mInstructions\u001b[0m \n",
      "\n",
      "            Input must be in the following format: \n",
      "\n",
      "            \t labelA: item1, item2; \n",
      "\n",
      "            labelB: itemX, itemZ; \n",
      "\n",
      "            If no entities in text, leave as is and press submit. \n",
      "\n",
      "            Similarly, if no entities for a particular label, leave as is (or delete the line for that label). \n",
      "\n",
      "            Buttons: \n",
      "\n",
      "            * submit inserts new annotation (or overwrites existing one if one is present). \n",
      "\n",
      "            * skip moves forward and leaves empty string (or existing annotation if one is present). \n",
      "\n",
      "            * finish terminates the annotation session.\n",
      "            \n"
     ]
    }
   ],
   "source": [
    "annotator.instructions"
   ]
  },
  {
   "cell_type": "code",
   "execution_count": 7,
   "id": "helpful-potato",
   "metadata": {},
   "outputs": [
    {
     "data": {
      "application/vnd.jupyter.widget-view+json": {
       "model_id": "703118109866415f90371fc409e378f3",
       "version_major": 2,
       "version_minor": 0
      },
      "text/plain": [
       "HTML(value='-1 examples annotated, 3 examples left')"
      ]
     },
     "metadata": {},
     "output_type": "display_data"
    },
    {
     "data": {
      "application/vnd.jupyter.widget-view+json": {
       "model_id": "f0c08b0d7c4b4491b560b9616f25b2c2",
       "version_major": 2,
       "version_minor": 0
      },
      "text/plain": [
       "Textarea(value='GPE: insert;\\nPERSON: insert;', layout=Layout(width='auto'), rows=2)"
      ]
     },
     "metadata": {},
     "output_type": "display_data"
    },
    {
     "data": {
      "application/vnd.jupyter.widget-view+json": {
       "model_id": "bfb4fab945484b3f8f5886a2dace31b4",
       "version_major": 2,
       "version_minor": 0
      },
      "text/plain": [
       "HBox(children=(Button(button_style='success', description='submit', style=ButtonStyle()), Button(button_style=…"
      ]
     },
     "metadata": {},
     "output_type": "display_data"
    },
    {
     "data": {
      "application/vnd.jupyter.widget-view+json": {
       "model_id": "9f9cab4b2f674642a0051bce432fc4c7",
       "version_major": 2,
       "version_minor": 0
      },
      "text/plain": [
       "Output()"
      ]
     },
     "metadata": {},
     "output_type": "display_data"
    }
   ],
   "source": [
    "df_labels = annotator.annotate(df=df, col_text=\"text\")"
   ]
  },
  {
   "cell_type": "code",
   "execution_count": 14,
   "id": "native-country",
   "metadata": {},
   "outputs": [
    {
     "data": {
      "text/html": [
       "<div>\n",
       "<style scoped>\n",
       "    .dataframe tbody tr th:only-of-type {\n",
       "        vertical-align: middle;\n",
       "    }\n",
       "\n",
       "    .dataframe tbody tr th {\n",
       "        vertical-align: top;\n",
       "    }\n",
       "\n",
       "    .dataframe thead th {\n",
       "        text-align: right;\n",
       "    }\n",
       "</style>\n",
       "<table border=\"1\" class=\"dataframe\">\n",
       "  <thead>\n",
       "    <tr style=\"text-align: right;\">\n",
       "      <th></th>\n",
       "      <th>text</th>\n",
       "      <th>annotations</th>\n",
       "    </tr>\n",
       "  </thead>\n",
       "  <tbody>\n",
       "    <tr>\n",
       "      <th>0</th>\n",
       "      <td>New York is lovely, Milan is nice, but London ...</td>\n",
       "      <td>(New York is lovely, Milan is nice, but London...</td>\n",
       "    </tr>\n",
       "    <tr>\n",
       "      <th>1</th>\n",
       "      <td>Stockholm is too cold.</td>\n",
       "      <td>(Stockholm is too cold., {'entities': [(0, 9, ...</td>\n",
       "    </tr>\n",
       "  </tbody>\n",
       "</table>\n",
       "</div>"
      ],
      "text/plain": [
       "                                                text  \\\n",
       "0  New York is lovely, Milan is nice, but London ...   \n",
       "1                             Stockholm is too cold.   \n",
       "\n",
       "                                         annotations  \n",
       "0  (New York is lovely, Milan is nice, but London...  \n",
       "1  (Stockholm is too cold., {'entities': [(0, 9, ...  "
      ]
     },
     "execution_count": 14,
     "metadata": {},
     "output_type": "execute_result"
    }
   ],
   "source": [
    "df_labels"
   ]
  },
  {
   "cell_type": "code",
   "execution_count": 15,
   "id": "banned-nerve",
   "metadata": {},
   "outputs": [
    {
     "data": {
      "text/plain": [
       "('Stockholm is too cold.', {'entities': [(0, 9, 'GPE')]})"
      ]
     },
     "execution_count": 15,
     "metadata": {},
     "output_type": "execute_result"
    }
   ],
   "source": [
    "df_labels.annotations[1]"
   ]
  },
  {
   "cell_type": "code",
   "execution_count": 10,
   "id": "impaired-swing",
   "metadata": {},
   "outputs": [],
   "source": [
    "# phrasematcher"
   ]
  },
  {
   "cell_type": "code",
   "execution_count": 11,
   "id": "romantic-browse",
   "metadata": {},
   "outputs": [],
   "source": [
    "# model"
   ]
  },
  {
   "cell_type": "code",
   "execution_count": 12,
   "id": "reserved-minnesota",
   "metadata": {},
   "outputs": [],
   "source": [
    "# spacy format"
   ]
  },
  {
   "cell_type": "code",
   "execution_count": 13,
   "id": "honey-fellowship",
   "metadata": {},
   "outputs": [],
   "source": [
    "# BIO format"
   ]
  }
 ],
 "metadata": {
  "kernelspec": {
   "display_name": "Python 3.7",
   "language": "python",
   "name": "py37"
  },
  "language_info": {
   "codemirror_mode": {
    "name": "ipython",
    "version": 3
   },
   "file_extension": ".py",
   "mimetype": "text/x-python",
   "name": "python",
   "nbconvert_exporter": "python",
   "pygments_lexer": "ipython3",
   "version": "3.7.9"
  }
 },
 "nbformat": 4,
 "nbformat_minor": 5
}
